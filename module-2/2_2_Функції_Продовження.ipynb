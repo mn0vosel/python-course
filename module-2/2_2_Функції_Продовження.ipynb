{
 "cells": [
  {
   "cell_type": "markdown",
   "id": "981d9265",
   "metadata": {
    "id": "981d9265"
   },
   "source": [
    "# Домашнє завдання до теми \"Functions\"\n",
    "В цьому домашньому завданні в деяких задачах є частини коду, та в кожному завданні описано, що з ними треба зробити, часто - просто виконати після того, як ви напишете частину, якої поки не вистачає. Пишіть, будь ласка, код, який реалізує рішення кожного завдання, безпосереньо під формулюванням завдання, створюючи нові клітинки. Можете створювати скільки завгодно клітинок для виконання одного завдання."
   ]
  },
  {
   "cell_type": "markdown",
   "id": "eb55a967",
   "metadata": {
    "id": "eb55a967"
   },
   "source": [
    "1. Напишіть функцію `is_even`, яка для заданого числа визначає, чи воно є парним (тобто ділиться на 2 без остачі, наприклад 4, 10, 102). Функція має вертати результат типу bool.\n",
    "Продемонструйте результати робити функції запустивши код нижче."
   ]
  },
  {
   "cell_type": "code",
   "execution_count": 1,
   "id": "66e68f7a",
   "metadata": {
    "ExecuteTime": {
     "end_time": "2023-06-13T09:48:47.072569Z",
     "start_time": "2023-06-13T09:48:47.068977Z"
    },
    "id": "66e68f7a"
   },
   "outputs": [],
   "source": [
    "def is_even(a):\n",
    "    return a % 2 == 0"
   ]
  },
  {
   "cell_type": "code",
   "execution_count": 2,
   "id": "c60e04d1",
   "metadata": {
    "ExecuteTime": {
     "end_time": "2023-06-13T09:51:03.574283Z",
     "start_time": "2023-06-13T09:51:03.568715Z"
    },
    "id": "c60e04d1"
   },
   "outputs": [
    {
     "data": {
      "text/plain": [
       "[False, True, False, False, True]"
      ]
     },
     "execution_count": 2,
     "metadata": {},
     "output_type": "execute_result"
    }
   ],
   "source": [
    "[is_even(digit) for digit in [101, 2002, 3043, 5015, 8222]]"
   ]
  },
  {
   "cell_type": "markdown",
   "id": "c094769a",
   "metadata": {
    "ExecuteTime": {
     "end_time": "2022-10-22T04:15:21.939494Z",
     "start_time": "2022-10-22T04:15:21.933981Z"
    },
    "id": "c094769a"
   },
   "source": [
    "2. Напишіть функцію `get_random_int_list`, яка приймає один аргумент - кількість чисел `n`, і повертає список, що містить `n` випадкових цілих чисел з діапазону від 0 до 100 включно. Для генерації випадкових чисел використовуйте модуль `random`.\n",
    "\n",
    "  **Вимоги до реалізації:**\n",
    "\n",
    "  - Функція повинна приймати один аргумент `n` - кількість чисел у списку.\n",
    "  - Для генерації випадкових чисел використовуйте функцію `random.randint(0, 100)`.\n",
    "  - Повернутий список має містити рівно `n` випадкових чисел.\n",
    "\n",
    "  **Приклади виклику функції та очікувані результати:**\n",
    "\n",
    "  1. **Приклад 1:**\n",
    "    - Виклик функції: `get_random_int_list(5)`\n",
    "    - Очікуваний результат: Список з 5 випадковими числами, наприклад, `[23, 77, 45, 8, 91]`. Кожен запуск може повертати різні числа через випадковість.\n",
    "\n",
    "  2. **Приклад 2:**\n",
    "    - Виклик функції: `get_random_int_list(3)`\n",
    "    - Очікуваний результат: Список з 3 випадковими числами, наприклад, `[64, 20, 37]`.\n",
    "\n",
    "  3. **Приклад 3:**\n",
    "    - Виклик функції: `get_random_int_list(0)`\n",
    "    - Очікуваний результат: Порожній список `[]`, оскільки було запитано 0 чисел.\n",
    "\n",
    "Продемонструйте результати робити функції запустивши код нижче."
   ]
  },
  {
   "cell_type": "code",
   "execution_count": 3,
   "id": "3c803686-53d9-4070-8a02-305c3d9ebbb9",
   "metadata": {},
   "outputs": [],
   "source": [
    "import random"
   ]
  },
  {
   "cell_type": "code",
   "execution_count": 4,
   "id": "547f99ad-f9a4-471b-803d-5d659da4707e",
   "metadata": {},
   "outputs": [
    {
     "data": {
      "text/plain": [
       "31"
      ]
     },
     "execution_count": 4,
     "metadata": {},
     "output_type": "execute_result"
    }
   ],
   "source": [
    "# Тест функції\n",
    "random.randint(0, 100)"
   ]
  },
  {
   "cell_type": "code",
   "execution_count": 5,
   "id": "c9106421-dbdb-4665-b4db-ca47c5a00d41",
   "metadata": {},
   "outputs": [],
   "source": [
    "# Тест циклу\n",
    "random_list = []\n",
    "a = 8\n",
    "num = list(range(a))\n",
    "for i in range(0, len(num)):\n",
    "    current_number = num[i]\n",
    "    current_digit = random.randint(0, 100)\n",
    "    random_list.append(current_digit)"
   ]
  },
  {
   "cell_type": "code",
   "execution_count": 6,
   "id": "dffb75e9-01e8-4778-9959-966882cd5201",
   "metadata": {},
   "outputs": [
    {
     "data": {
      "text/plain": [
       "[37, 99, 33, 29, 64, 89, 42, 94]"
      ]
     },
     "execution_count": 6,
     "metadata": {},
     "output_type": "execute_result"
    }
   ],
   "source": [
    "random_list"
   ]
  },
  {
   "cell_type": "code",
   "execution_count": 7,
   "id": "r7hWrg3IK1_b",
   "metadata": {
    "id": "r7hWrg3IK1_b"
   },
   "outputs": [],
   "source": [
    "def get_random_int_list(a):\n",
    "    random_list = []\n",
    "    num = list(range(a))\n",
    "    for i in range(0, len(num)):\n",
    "        current_number = num[i]\n",
    "        current_digit = random.randint(0, 100)\n",
    "        random_list.append(current_digit)\n",
    "    return random_list"
   ]
  },
  {
   "cell_type": "code",
   "execution_count": 8,
   "id": "7948fe2d",
   "metadata": {
    "ExecuteTime": {
     "end_time": "2023-06-13T09:56:26.788341Z",
     "start_time": "2023-06-13T09:56:26.784436Z"
    },
    "id": "7948fe2d"
   },
   "outputs": [
    {
     "name": "stdout",
     "output_type": "stream",
     "text": [
      "[18, 5, 16, 85, 84]\n",
      "[93, 29, 27]\n",
      "[]\n",
      "[36, 4, 57, 0, 73, 55, 44, 67]\n"
     ]
    }
   ],
   "source": [
    "for number in [5, 3, 0, 8]:\n",
    "  print(get_random_int_list(number))"
   ]
  },
  {
   "cell_type": "markdown",
   "id": "xPlxqkpyFkti",
   "metadata": {
    "id": "xPlxqkpyFkti"
   },
   "source": [
    "3. Створіть функцію `sum_numbers`, яка приймає довільну кількість числових аргументів і повертає їх суму. Функція повинна працювати з будь-якою кількістю числових аргументів, включаючи випадки, коли аргументів немає.\n",
    "\n",
    "  **Приклади виклику функції:**\n",
    "\n",
    "  1. `sum_numbers(1, 2, 3, 4)` повинно повернути `10`.\n",
    "  2. `sum_numbers(10, 20)` повинно повернути `30`.\n",
    "  3. `sum_numbers()` повинно повернути `0`.\n",
    "\n",
    "  **Вимоги до реалізації:**\n",
    "\n",
    "  - Функція має використовувати `*args` для прийому довільної кількості аргументів.\n",
    "  - Функція має правильно обробляти випадок, коли їй не передано жодного аргумента.\n",
    "\n",
    "  Продемонструйте результати робити функції запустивши її на наведених наборах нижче."
   ]
  },
  {
   "cell_type": "code",
   "execution_count": 9,
   "id": "WjjXB8MqK5Kt",
   "metadata": {
    "id": "WjjXB8MqK5Kt"
   },
   "outputs": [],
   "source": [
    "def sum_numbers(*args):\n",
    "    return sum(args)"
   ]
  },
  {
   "cell_type": "code",
   "execution_count": 10,
   "id": "TyQnD-d1GNOM",
   "metadata": {
    "id": "TyQnD-d1GNOM"
   },
   "outputs": [],
   "source": [
    "number_sets = [\n",
    "    (1, 2, 3, 4),\n",
    "    (10, 20),\n",
    "    (11, 12, 13),\n",
    "    (),\n",
    "    (-19, -164, 183)\n",
    "]"
   ]
  },
  {
   "cell_type": "code",
   "execution_count": 11,
   "id": "a11aa1bb-909c-4a1f-8404-fa6d136b17bc",
   "metadata": {},
   "outputs": [
    {
     "data": {
      "text/plain": [
       "list"
      ]
     },
     "execution_count": 11,
     "metadata": {},
     "output_type": "execute_result"
    }
   ],
   "source": [
    "type(number_sets)"
   ]
  },
  {
   "cell_type": "code",
   "execution_count": 12,
   "id": "213c347e-8461-4e80-9d39-1f6a54e91677",
   "metadata": {},
   "outputs": [
    {
     "data": {
      "text/plain": [
       "5"
      ]
     },
     "execution_count": 12,
     "metadata": {},
     "output_type": "execute_result"
    }
   ],
   "source": [
    "len(number_sets)"
   ]
  },
  {
   "cell_type": "code",
   "execution_count": 13,
   "id": "eda59041-db38-49ed-a49c-cd93ce725754",
   "metadata": {},
   "outputs": [
    {
     "data": {
      "text/plain": [
       "10"
      ]
     },
     "execution_count": 13,
     "metadata": {},
     "output_type": "execute_result"
    }
   ],
   "source": [
    "# Тест перший тест\n",
    "sum_numbers(*tuple(number_sets[0]))"
   ]
  },
  {
   "cell_type": "code",
   "execution_count": 14,
   "id": "S_z07TQVLCQT",
   "metadata": {
    "id": "S_z07TQVLCQT"
   },
   "outputs": [
    {
     "name": "stdout",
     "output_type": "stream",
     "text": [
      "10\n",
      "30\n",
      "36\n",
      "0\n",
      "0\n"
     ]
    }
   ],
   "source": [
    "for i in range(0, len(number_sets)):\n",
    "    print(sum_numbers(*tuple(number_sets[i])))"
   ]
  },
  {
   "cell_type": "markdown",
   "id": "d1769a5b",
   "metadata": {
    "id": "d1769a5b"
   },
   "source": [
    "4. **Завдання на рефакторинг: Обчислення Індексу Маси Тіла (BMI).** Рефакторинг - стандартна практика при роботі зі своїм, чи чужим кодом в компанії. Тут ми дізнаємось, що це і попрактикуємось це робити.\n",
    "\n",
    "  У вашому розпорядженні є фрагмент коду, який обчислює [індекс маси тіла (BMI)](https://uk.wikipedia.org/wiki/%D0%86%D0%BD%D0%B4%D0%B5%D0%BA%D1%81_%D0%BC%D0%B0%D1%81%D0%B8_%D1%82%D1%96%D0%BB%D0%B0#:~:text=%D0%86%CC%81%D0%BD%D0%B4%D0%B5%D0%BA%D1%81%20%D0%BC%D0%B0%CC%81%D1%81%D0%B8%20%D1%82%D1%96%CC%81%D0%BB%D0%B0%20(%D0%86%D0%9C%D0%A2%2C%20%D0%B0%D0%BD%D0%B3%D0%BB,%D0%BD%D0%BE%D1%80%D0%BC%D0%B0%D0%BB%D1%8C%D0%BD%D0%BE%D1%8E%2C%20%D0%BD%D0%B0%D0%B4%D0%BC%D1%96%D1%80%D0%BD%D0%BE%D1%8E%20(%D0%BE%D0%B6%D0%B8%D1%80%D1%96%D0%BD%D0%BD%D1%8F%D0%BC) для п'яти осіб. Ваше завдання - рефакторити цей код, тобто оптимізувати його вигляд, виокремивши повторювані частини в окрему функцію. Мета рефакторингу - **зберегти функціонал існуючого коду**, але зробити його більш читабельним, зручним для розуміння та модифікації.   Для обчислення індексу маси тіла треба розділити вагу на зріст, піднесений до квадрату.\n",
    "\n",
    "  Виділіть у функцію код, що дублюється (робить одні і ті ж самі операції, але з різними числами) так, аби результат збергісі **той самий**, але коду стало менше.\n",
    "\n",
    "  В кінці - запустіть свій відрефакторений фрагмент коду. Якщо Ваш код виводить не те ж саме, що наведений фрагмент до рефакторингу, завдання вважається не виконаним.\n",
    "\n",
    "  **Увага**: Це завдання - творче. Можна обгорнути даний код у функцію по-різному. Єдиної правильної відповіді нема. Буде перевірятись розуміння підходу \"винесення частин, що повторюються, у функцію\"."
   ]
  },
  {
   "cell_type": "code",
   "execution_count": 15,
   "id": "e0750a47",
   "metadata": {
    "ExecuteTime": {
     "end_time": "2023-02-26T21:36:29.139957Z",
     "start_time": "2023-02-26T21:36:29.117743Z"
    },
    "id": "e0750a47"
   },
   "outputs": [
    {
     "name": "stdout",
     "output_type": "stream",
     "text": [
      "bmi person1 = 30\n",
      "bmi person2 = 29\n",
      "bmi person3 = 29\n",
      "bmi person4 = 24\n",
      "bmi person5 = 28\n"
     ]
    }
   ],
   "source": [
    "person1 = [80, 1.62]\n",
    "person2 = [69, 1.53]\n",
    "person3 = [80, 1.66]\n",
    "person4 = [80, 1.79]\n",
    "person5 = [72, 1.60]\n",
    "\n",
    "bmi_person1 = int(person1[0] / person1[1]**2)\n",
    "print(\"bmi {} = {}\".format('person1', bmi_person1))\n",
    "\n",
    "bmi_person2 = int(person2[0] / person2[1]**2)\n",
    "print(\"bmi {} = {}\".format('person2', bmi_person2))\n",
    "\n",
    "bmi_person3 = int(person3[0] / person3[1]**2)\n",
    "print(\"bmi {} = {}\".format('person3', bmi_person3))\n",
    "\n",
    "bmi_person4 = int(person4[0] / person4[1]**2)\n",
    "print(\"bmi {} = {}\".format('person4', bmi_person4))\n",
    "\n",
    "bmi_person5 = int(person5[0] / person5[1]**2)\n",
    "print(\"bmi {} = {}\".format('person5', bmi_person5))"
   ]
  },
  {
   "cell_type": "code",
   "execution_count": 16,
   "id": "MR3hny6hLFmu",
   "metadata": {
    "id": "MR3hny6hLFmu"
   },
   "outputs": [],
   "source": [
    "persons = [\n",
    "        [80, 1.62],\n",
    "        [69, 1.53],\n",
    "        [80, 1.66],\n",
    "        [80, 1.79],\n",
    "        [72, 1.60]\n",
    "    ]"
   ]
  },
  {
   "cell_type": "code",
   "execution_count": 31,
   "id": "36abfb06-f48b-4ade-bd87-1bafc167dafb",
   "metadata": {},
   "outputs": [
    {
     "data": {
      "text/plain": [
       "[0, 1, 2, 3, 4]"
      ]
     },
     "execution_count": 31,
     "metadata": {},
     "output_type": "execute_result"
    }
   ],
   "source": [
    "list(range(0, len(persons)))"
   ]
  },
  {
   "cell_type": "code",
   "execution_count": 37,
   "id": "f1eb312b-adff-4fe2-8f46-bc832fd5b887",
   "metadata": {},
   "outputs": [
    {
     "data": {
      "text/plain": [
       "[80, 1.62]"
      ]
     },
     "execution_count": 37,
     "metadata": {},
     "output_type": "execute_result"
    }
   ],
   "source": [
    "persons[0]"
   ]
  },
  {
   "cell_type": "code",
   "execution_count": 38,
   "id": "623bc416-35c2-4f9f-890a-9720e71e5790",
   "metadata": {},
   "outputs": [
    {
     "data": {
      "text/plain": [
       "69"
      ]
     },
     "execution_count": 38,
     "metadata": {},
     "output_type": "execute_result"
    }
   ],
   "source": [
    "persons[1][0]"
   ]
  },
  {
   "cell_type": "code",
   "execution_count": 44,
   "id": "44b63350-096d-4c3f-a666-38c4031932c1",
   "metadata": {},
   "outputs": [],
   "source": [
    "def bmi(a):\n",
    "    bmi_list = []\n",
    "    for i in range(0, len(persons)):\n",
    "        bmi_person = int(persons[i][0] / persons[i][1]**2)\n",
    "        bmi_list.append(bmi_person)\n",
    "    return bmi_list"
   ]
  },
  {
   "cell_type": "code",
   "execution_count": 48,
   "id": "66a8c0c8-e0ea-40c4-886b-56a28c7f8559",
   "metadata": {},
   "outputs": [
    {
     "name": "stdout",
     "output_type": "stream",
     "text": [
      "bmi person1 = 30\n",
      "bmi person2 = 29\n",
      "bmi person3 = 29\n",
      "bmi person4 = 24\n",
      "bmi person5 = 28\n"
     ]
    }
   ],
   "source": [
    "for i in range(0, len(persons)):\n",
    "    print(f\"bmi person{i+1} = {bmi(persons)[i]}\")"
   ]
  },
  {
   "cell_type": "code",
   "execution_count": null,
   "id": "f99b14ad-3aa2-4c19-9507-ba0a40e40ec7",
   "metadata": {},
   "outputs": [],
   "source": []
  }
 ],
 "metadata": {
  "colab": {
   "provenance": []
  },
  "kernelspec": {
   "display_name": "Python 3 (ipykernel)",
   "language": "python",
   "name": "python3"
  },
  "language_info": {
   "codemirror_mode": {
    "name": "ipython",
    "version": 3
   },
   "file_extension": ".py",
   "mimetype": "text/x-python",
   "name": "python",
   "nbconvert_exporter": "python",
   "pygments_lexer": "ipython3",
   "version": "3.11.4"
  },
  "toc": {
   "base_numbering": 1,
   "nav_menu": {},
   "number_sections": true,
   "sideBar": true,
   "skip_h1_title": false,
   "title_cell": "Table of Contents",
   "title_sidebar": "Contents",
   "toc_cell": false,
   "toc_position": {},
   "toc_section_display": true,
   "toc_window_display": false
  }
 },
 "nbformat": 4,
 "nbformat_minor": 5
}
